{
 "cells": [
  {
   "cell_type": "markdown",
   "id": "540fa575-8637-4b27-833a-a468fc8f1e0d",
   "metadata": {},
   "source": [
    "## Import Libraries"
   ]
  },
  {
   "cell_type": "code",
   "execution_count": 26,
   "id": "ce7ea19c-010d-4ad2-8cbe-093f5f11288c",
   "metadata": {},
   "outputs": [],
   "source": [
    "import pandas as pd\n",
    "import matplotlib.pyplot as plt\n",
    "import seaborn as sns\n",
    "import networkx as nx\n",
    "import plotly.graph_objects as go"
   ]
  },
  {
   "cell_type": "code",
   "execution_count": 27,
   "id": "b8f630dc-7a06-4af0-b608-22f5bd891baf",
   "metadata": {},
   "outputs": [
    {
     "name": "stdout",
     "output_type": "stream",
     "text": [
      "Requirement already satisfied: pyvis in c:\\users\\user\\appdata\\local\\programs\\python\\python313\\lib\\site-packages (0.3.2)Note: you may need to restart the kernel to use updated packages.\n",
      "\n",
      "Requirement already satisfied: ipython>=5.3.0 in c:\\users\\user\\appdata\\local\\programs\\python\\python313\\lib\\site-packages (from pyvis) (8.29.0)\n",
      "Requirement already satisfied: jinja2>=2.9.6 in c:\\users\\user\\appdata\\local\\programs\\python\\python313\\lib\\site-packages (from pyvis) (3.1.4)\n",
      "Requirement already satisfied: jsonpickle>=1.4.1 in c:\\users\\user\\appdata\\local\\programs\\python\\python313\\lib\\site-packages (from pyvis) (4.0.0)\n",
      "Requirement already satisfied: networkx>=1.11 in c:\\users\\user\\appdata\\local\\programs\\python\\python313\\lib\\site-packages (from pyvis) (3.4.2)\n",
      "Requirement already satisfied: decorator in c:\\users\\user\\appdata\\local\\programs\\python\\python313\\lib\\site-packages (from ipython>=5.3.0->pyvis) (5.1.1)\n",
      "Requirement already satisfied: jedi>=0.16 in c:\\users\\user\\appdata\\local\\programs\\python\\python313\\lib\\site-packages (from ipython>=5.3.0->pyvis) (0.19.2)\n",
      "Requirement already satisfied: matplotlib-inline in c:\\users\\user\\appdata\\local\\programs\\python\\python313\\lib\\site-packages (from ipython>=5.3.0->pyvis) (0.1.7)\n",
      "Requirement already satisfied: prompt-toolkit<3.1.0,>=3.0.41 in c:\\users\\user\\appdata\\local\\programs\\python\\python313\\lib\\site-packages (from ipython>=5.3.0->pyvis) (3.0.48)\n",
      "Requirement already satisfied: pygments>=2.4.0 in c:\\users\\user\\appdata\\local\\programs\\python\\python313\\lib\\site-packages (from ipython>=5.3.0->pyvis) (2.18.0)\n",
      "Requirement already satisfied: stack-data in c:\\users\\user\\appdata\\local\\programs\\python\\python313\\lib\\site-packages (from ipython>=5.3.0->pyvis) (0.6.3)\n",
      "Requirement already satisfied: traitlets>=5.13.0 in c:\\users\\user\\appdata\\local\\programs\\python\\python313\\lib\\site-packages (from ipython>=5.3.0->pyvis) (5.14.3)\n",
      "Requirement already satisfied: colorama in c:\\users\\user\\appdata\\local\\programs\\python\\python313\\lib\\site-packages (from ipython>=5.3.0->pyvis) (0.4.6)\n",
      "Requirement already satisfied: MarkupSafe>=2.0 in c:\\users\\user\\appdata\\local\\programs\\python\\python313\\lib\\site-packages (from jinja2>=2.9.6->pyvis) (3.0.2)\n",
      "Requirement already satisfied: parso<0.9.0,>=0.8.4 in c:\\users\\user\\appdata\\local\\programs\\python\\python313\\lib\\site-packages (from jedi>=0.16->ipython>=5.3.0->pyvis) (0.8.4)\n",
      "Requirement already satisfied: wcwidth in c:\\users\\user\\appdata\\local\\programs\\python\\python313\\lib\\site-packages (from prompt-toolkit<3.1.0,>=3.0.41->ipython>=5.3.0->pyvis) (0.2.13)\n",
      "Requirement already satisfied: executing>=1.2.0 in c:\\users\\user\\appdata\\local\\programs\\python\\python313\\lib\\site-packages (from stack-data->ipython>=5.3.0->pyvis) (2.1.0)\n",
      "Requirement already satisfied: asttokens>=2.1.0 in c:\\users\\user\\appdata\\local\\programs\\python\\python313\\lib\\site-packages (from stack-data->ipython>=5.3.0->pyvis) (2.4.1)\n",
      "Requirement already satisfied: pure-eval in c:\\users\\user\\appdata\\local\\programs\\python\\python313\\lib\\site-packages (from stack-data->ipython>=5.3.0->pyvis) (0.2.3)\n",
      "Requirement already satisfied: six>=1.12.0 in c:\\users\\user\\appdata\\local\\programs\\python\\python313\\lib\\site-packages (from asttokens>=2.1.0->stack-data->ipython>=5.3.0->pyvis) (1.16.0)\n"
     ]
    }
   ],
   "source": [
    "pip install pyvis"
   ]
  },
  {
   "cell_type": "code",
   "execution_count": 28,
   "id": "adb68a8f-be47-455d-9dcf-b7ea032f20af",
   "metadata": {},
   "outputs": [],
   "source": [
    "from pyvis.network import Network"
   ]
  },
  {
   "cell_type": "markdown",
   "id": "b88452dc-6ec1-4f1b-8d63-cfea57f1b0ed",
   "metadata": {},
   "source": [
    "### Load the files"
   ]
  },
  {
   "cell_type": "code",
   "execution_count": 39,
   "id": "762f59aa-4726-4584-a24c-fbfff3c0b307",
   "metadata": {},
   "outputs": [],
   "source": [
    "# Load mouse network data\n",
    "mouse_file_path = r\"E:\\Narmada\\combining_10files\\10mouse_files.txt\"\n",
    "mouse_data = pd.read_csv(mouse_file_path, sep=\"\\t\")\n",
    "\n",
    "# Load human network data\n",
    "human_file_path = r\"E:\\Narmada\\combining_10files\\10human_files.txt\"\n",
    "human_data = pd.read_csv(human_file_path, sep=\"\\t\")"
   ]
  },
  {
   "cell_type": "markdown",
   "id": "f1ccaaf3-5c51-4a32-8376-aa06392a1174",
   "metadata": {},
   "source": [
    "### Reduce the sample size"
   ]
  },
  {
   "cell_type": "code",
   "execution_count": 40,
   "id": "a633ddf1-d6c6-4dd6-97f0-28bcb3fac8b2",
   "metadata": {},
   "outputs": [],
   "source": [
    "# Randomly sample a subset of the data- human\n",
    "#sampled_data_human = human_data.sample(frac=0.1, random_state=42)  # Adjust frac to reduce the number of data points\n",
    "\n",
    "# Randomly sample a subset of the data- human\n",
    "#sampled_data_mouse = mouse_data.sample(frac=0.1, random_state=42)  # Adjust frac to reduce the number of data points"
   ]
  },
  {
   "cell_type": "markdown",
   "id": "391d2a10-5e4b-42af-ac02-5d07a7d7edff",
   "metadata": {},
   "source": [
    "### Create the graphs -for sampled data"
   ]
  },
  {
   "cell_type": "code",
   "execution_count": 41,
   "id": "6d5f4558-3c52-4a99-948b-c24888e4f2f4",
   "metadata": {},
   "outputs": [],
   "source": [
    "# Create mouse network graph\n",
    "#G1_mouse = nx.from_pandas_edgelist(sampled_data_mouse, source='TF', target='target', create_using=nx.DiGraph())\n",
    "\n",
    "# Create human network graph\n",
    "#G1_human = nx.from_pandas_edgelist(sampled_data_human, source='TF', target='target', create_using=nx.DiGraph())"
   ]
  },
  {
   "cell_type": "markdown",
   "id": "455e921a-06c5-4502-a144-0a1c33e75aa9",
   "metadata": {},
   "source": [
    "## Create the graphs - for whole Dataset"
   ]
  },
  {
   "cell_type": "code",
   "execution_count": 42,
   "id": "9310518c-3d96-4c26-bea5-127289a23f34",
   "metadata": {},
   "outputs": [],
   "source": [
    "# Create mouse network graph\n",
    "G1_mouse = nx.from_pandas_edgelist(mouse_data, source='TF', target='target', create_using=nx.DiGraph())\n",
    "\n",
    "# Create human network graph\n",
    "G1_human = nx.from_pandas_edgelist(human_data, source='TF', target='target', create_using=nx.DiGraph())"
   ]
  },
  {
   "cell_type": "markdown",
   "id": "3c1f40e7-73ad-4c3e-8601-f6645941788f",
   "metadata": {},
   "source": [
    "# Interactive Network Visualization with Pyvis"
   ]
  },
  {
   "cell_type": "code",
   "execution_count": 43,
   "id": "81a3bfde-5e93-48b6-aaa1-c6dd5d29a943",
   "metadata": {},
   "outputs": [
    {
     "name": "stdout",
     "output_type": "stream",
     "text": [
      "Warning: When  cdn_resources is 'local' jupyter notebook has issues displaying graphics on chrome/safari. Use cdn_resources='in_line' or cdn_resources='remote' if you have issues viewing graphics in a notebook.\n",
      "combined_network_10h_10m.html\n"
     ]
    }
   ],
   "source": [
    "def create_pyvis_network(G_mouse, G_human):\n",
    "    net = Network(notebook=True)\n",
    "\n",
    "    # Add mouse nodes and edges\n",
    "    for node in G_mouse.nodes():\n",
    "        net.add_node(node, label=node, color='blue')\n",
    "    for edge in G_mouse.edges():\n",
    "        net.add_edge(edge[0], edge[1], color='blue')\n",
    "\n",
    "    # Add human nodes and edges\n",
    "    for node in G_human.nodes():\n",
    "        net.add_node(node, label=node, color='red')\n",
    "    for edge in G_human.edges():\n",
    "        net.add_edge(edge[0], edge[1], color='red')\n",
    "\n",
    "    net.show('combined_network_10h_10m.html')\n",
    "\n",
    "# Create and show the network\n",
    "create_pyvis_network(G1_mouse, G1_human)"
   ]
  },
  {
   "cell_type": "markdown",
   "id": "0768d39b-72fe-4b4c-bca2-5d848a45fa2b",
   "metadata": {},
   "source": [
    "# Using Plotly for 3D Network Visualization"
   ]
  },
  {
   "cell_type": "markdown",
   "id": "ef6780b7-dd74-4b37-b667-2ec1864e5624",
   "metadata": {},
   "source": [
    " # Interactive Visualization with Bokeh"
   ]
  },
  {
   "cell_type": "markdown",
   "id": "e23f8f02-1ad3-4758-9745-928ab95210fe",
   "metadata": {},
   "source": [
    "## Calculations"
   ]
  },
  {
   "cell_type": "code",
   "execution_count": 44,
   "id": "529bb513-4a30-401f-9fa0-eb25bbb3295d",
   "metadata": {},
   "outputs": [
    {
     "name": "stdout",
     "output_type": "stream",
     "text": [
      "Requirement already satisfied: python-louvain in c:\\users\\user\\appdata\\local\\programs\\python\\python313\\lib\\site-packages (0.16)\n",
      "Requirement already satisfied: networkx in c:\\users\\user\\appdata\\local\\programs\\python\\python313\\lib\\site-packages (from python-louvain) (3.4.2)\n",
      "Requirement already satisfied: numpy in c:\\users\\user\\appdata\\local\\programs\\python\\python313\\lib\\site-packages (from python-louvain) (2.1.3)\n",
      "Note: you may need to restart the kernel to use updated packages.\n"
     ]
    }
   ],
   "source": [
    "pip install python-louvain"
   ]
  },
  {
   "cell_type": "code",
   "execution_count": 45,
   "id": "4df6c36b-d581-4b5b-9df2-5240a12a5fad",
   "metadata": {},
   "outputs": [],
   "source": [
    "import community as community_louvain"
   ]
  },
  {
   "cell_type": "code",
   "execution_count": 46,
   "id": "f4ba4b6a-9d16-4bb5-a0dc-1d52cb75692f",
   "metadata": {},
   "outputs": [
    {
     "name": "stdout",
     "output_type": "stream",
     "text": [
      "Mouse Network Analysis:\n",
      "Number of nodes: 12267\n",
      "Number of edges: 110060\n",
      "Density: 0.0007314559598315171\n",
      "Average degree: 17.944077606586777\n",
      "Clustering coefficient: 0.17114063508435062\n",
      "Cycle basis: Not applicable for directed graphs\n",
      "Modularity: 0.28401446209920084\n",
      "\n",
      "Human Network Analysis:\n",
      "Number of nodes: 12923\n",
      "Number of edges: 142606\n",
      "Density: 0.0008539741355890748\n",
      "Average degree: 22.070107560164047\n",
      "Clustering coefficient: 0.31048550330041785\n",
      "Cycle basis: Not applicable for directed graphs\n",
      "Modularity: 0.19561373310636107\n"
     ]
    }
   ],
   "source": [
    "def analyze_network(G):\n",
    "    # Network size\n",
    "    num_nodes = G.number_of_nodes()\n",
    "    num_edges = G.number_of_edges()\n",
    "\n",
    "    # Network density\n",
    "    density = nx.density(G)\n",
    "\n",
    "    # Average degree\n",
    "    average_degree = sum(dict(G.degree()).values()) / num_nodes\n",
    "\n",
    "    # Clustering coefficient\n",
    "    clustering_coefficient = nx.average_clustering(G)\n",
    "\n",
    "    # Connected components\n",
    "    connected_components = list(nx.strongly_connected_components(G))\n",
    "\n",
    "    # Cycle basis (only for undirected graphs)\n",
    "    if not G.is_directed():\n",
    "        cycle_basis = nx.cycle_basis(G)\n",
    "    else:\n",
    "        cycle_basis = \"Not applicable for directed graphs\"\n",
    "\n",
    "    # Modularity (using community detection)\n",
    "    partition = community_louvain.best_partition(G.to_undirected())\n",
    "    modularity = community_louvain.modularity(partition, G.to_undirected())\n",
    "\n",
    "    return {\n",
    "        \"Number of nodes\": num_nodes,\n",
    "        \"Number of edges\": num_edges,\n",
    "        \"Density\": density,\n",
    "        \"Average degree\": average_degree,\n",
    "        \"Clustering coefficient\": clustering_coefficient,\n",
    "        \"Cycle basis\": cycle_basis,\n",
    "        \"Modularity\": modularity\n",
    "    }\n",
    "\n",
    "# Analyze mouse network\n",
    "mouse_network_analysis = analyze_network(G1_mouse)\n",
    "\n",
    "# Analyze human network\n",
    "human_network_analysis = analyze_network(G1_human)\n",
    "\n",
    "print(\"Mouse Network Analysis:\")\n",
    "for key, value in mouse_network_analysis.items():\n",
    "    print(f\"{key}: {value}\")\n",
    "\n",
    "print(\"\\nHuman Network Analysis:\")\n",
    "for key, value in human_network_analysis.items():\n",
    "    print(f\"{key}: {value}\")"
   ]
  }
 ],
 "metadata": {
  "kernelspec": {
   "display_name": "Python 3 (ipykernel)",
   "language": "python",
   "name": "python3"
  },
  "language_info": {
   "codemirror_mode": {
    "name": "ipython",
    "version": 3
   },
   "file_extension": ".py",
   "mimetype": "text/x-python",
   "name": "python",
   "nbconvert_exporter": "python",
   "pygments_lexer": "ipython3",
   "version": "3.13.0"
  }
 },
 "nbformat": 4,
 "nbformat_minor": 5
}
